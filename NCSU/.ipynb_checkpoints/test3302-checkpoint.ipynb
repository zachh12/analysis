{
 "cells": [
  {
   "cell_type": "markdown",
   "metadata": {},
   "source": [
    "### Basic Processing Code for the NCSU Test Stand With the SIS3302 Digitizer\n",
    "Note: This will include sections from raw orca processing to using waveform processing tools. The last step in this will be to output a hdf5 dataframe which can be further analyzed in another example."
   ]
  },
  {
   "cell_type": "code",
   "execution_count": 1,
   "metadata": {},
   "outputs": [],
   "source": [
    "import pandas as pd\n",
    "import numpy as np\n",
    "import os"
   ]
  },
  {
   "cell_type": "markdown",
   "metadata": {},
   "source": [
    "#### Set The Appropriate Directories\n",
    "\"raw_data_dir\" is the directory for your Orca files. <br>\n",
    "\"output_dir\" is the directory for the processed output file."
   ]
  },
  {
   "cell_type": "code",
   "execution_count": 2,
   "metadata": {},
   "outputs": [],
   "source": [
    "raw_data_dir = \".\"\n",
    "output_directory = \".\"\n",
    "runList = [29534]\n",
    "maxWaveforms = 20000 #np.inf"
   ]
  },
  {
   "cell_type": "markdown",
   "metadata": {},
   "source": [
    "## Tier 1 Processing"
   ]
  },
  {
   "cell_type": "markdown",
   "metadata": {},
   "source": [
    "### Process The Raw Orca Data\n",
    "This only needs to be done once per Run, there is no reason to do this multiple times as all this does is convert the orca information into hdf5."
   ]
  },
  {
   "cell_type": "code",
   "execution_count": 3,
   "metadata": {
    "scrolled": true
   },
   "outputs": [
    {
     "name": "stdout",
     "output_type": "stream",
     "text": [
      "Header parsed.\n",
      "   48313 longs (in plist header)\n",
      "   193241 bytes in the header\n",
      "Total file size: 2010.091 MB\n",
      "Run number: 29534\n",
      "The Data IDs present in this file (header) are:\n",
      "    15: OR1DHistoDecoder\n",
      "    13: ORGretinaTriggerDecoder\n",
      "    1: ORMJDPreAmpDecoderForAdc\n",
      "    3: ORScriptDecoderForRecord\n",
      "    2: ORScriptDecoderForState\n",
      "    8: ORCV830DecoderForEvent\n",
      "    9: ORCV830DecoderForPolledRead\n",
      "    10: ORCAEN792DecoderForQdc\n",
      "    11: ORCAEN792NDecoderForQdc\n",
      "    14: ORiSegHVCardDecoderForHV\n",
      "    4: ORiSegHVCardDecoderForHV\n",
      "    5: ORGretina4MWaveformDecoder\n",
      "    12: ORHPPulserDecoderForPulserSettings\n",
      "    16: ORRunDecoderForRun\n",
      "Warning: no object info parsed for ORSIS3302Model\n",
      "Warning: no object info parsed for MJDPreAmp\n",
      "Warning: no object info parsed for ORiSegHVCard_placeholder\n",
      "Warning: No decoder implemented for the following data takers: \n",
      "  ORCAEN792DecoderForQdc\n",
      "  ORHPPulserDecoderForPulserSettings\n",
      "  ORScriptDecoderForRecord\n",
      "  OR1DHistoDecoder\n",
      "  ORGretinaTriggerDecoder\n",
      "  ORCV830DecoderForPolledRead\n",
      "  ORScriptDecoderForState\n",
      "  ORCV830DecoderForEvent\n",
      "  ORCAEN792NDecoderForQdc\n",
      "  ORRunDecoderForRun\n",
      "id_to_decoder contains:\n",
      "    1: ORMJDPreAmpDecoderForAdc\n",
      "    14: ORiSegHVCardDecoderForHV\n",
      "    4: ORiSegHVCardDecoderForHV\n",
      "    5: ORGretina4MWaveformDecoder\n",
      "Beginning Tier 0 processing of file ././Run29534...\n",
      "Percent: [##########] 100.000% Done...\n",
      "Writing ././Run29534 to tier1 file ./t1_run29534.h5...\n"
     ]
    }
   ],
   "source": [
    "import pygama.processing as pp\n",
    "pp.process_tier_0(raw_data_dir, runList, output_dir=output_directory, n_max=maxWaveforms)"
   ]
  },
  {
   "cell_type": "markdown",
   "metadata": {},
   "source": [
    "## Tier 2 Processing"
   ]
  },
  {
   "cell_type": "code",
   "execution_count": null,
   "metadata": {
    "scrolled": false
   },
   "outputs": [],
   "source": [
    "import pygama.calculators as pc\n",
    "import pygama.transforms as pt\n",
    "import matplotlib.pyplot as plt\n",
    "\n",
    "for runNumber in runList:\n",
    "    data = pd.read_hdf(\"t1_run{}.h5\".format(runNumber), key=\"ORGretina4MWaveformDecoder\")\n",
    "    print(\"Saving\")\n",
    "    cols = ['waveform', 'trap_max', 'drift_time']\n",
    "    df = pd.DataFrame(columns=cols)\n",
    "\n",
    "    for wf in data['waveform']:\n",
    "        #wf = wf[0]\n",
    "        bl_int = np.mean(wf[0:250])\n",
    "        blrm = pt.remove_baseline(wf, bl_0=bl_int, bl_1=0)\n",
    "        trap = pt.trap_filter(blrm, rampTime=400, flatTime=200)\n",
    "        trapMax = pc.trap_max(trap, method=\"max\", pickoff_sample=200)\n",
    "        t0 = pc.t0_estimate(blrm)\n",
    "        plt.plot(trap)\n",
    "        plt.show()\n",
    "\n",
    "        time_point = []\n",
    "        for i in range(50, len(blrm)):\n",
    "            if blrm[i] > (.9 * np.amax(blrm)):\n",
    "                time_point.append(i)\n",
    "                continue\n",
    "\n",
    "        try:\n",
    "            drift_time = time_point[0] - t0\n",
    "        except:\n",
    "            drift_time = -100\n",
    "        wf_info = [blrm, trapMax, drift_time]\n",
    "        if (drift_time != -100):\n",
    "            df.loc[len(df)] = wf_info\n",
    "    \n",
    "    df.to_hdf(\"t2.run{}.h5\".format(runNumber), key='data')\n",
    "    "
   ]
  },
  {
   "cell_type": "code",
   "execution_count": null,
   "metadata": {},
   "outputs": [],
   "source": []
  }
 ],
 "metadata": {
  "kernelspec": {
   "display_name": "Python 3",
   "language": "python",
   "name": "python3"
  },
  "language_info": {
   "codemirror_mode": {
    "name": "ipython",
    "version": 3
   },
   "file_extension": ".py",
   "mimetype": "text/x-python",
   "name": "python",
   "nbconvert_exporter": "python",
   "pygments_lexer": "ipython3",
   "version": "3.7.0"
  }
 },
 "nbformat": 4,
 "nbformat_minor": 2
}
